{
 "cells": [
  {
   "cell_type": "code",
   "execution_count": 3,
   "id": "ca437717",
   "metadata": {},
   "outputs": [],
   "source": [
    "\"\"\"\n",
    "Given the information you have and any light research you’d like to do on the topic, what insights can you draw?\n",
    "\n",
    "- show progress of each patient (user enters patient id)\n",
    "- show the trend of scores across all patients (seasonal changes / time of the day)\n",
    "- show severity level \n",
    "- group data with the length of treatment (after 1 month, 2 months etc)\n",
    "\n",
    "What assumptions have you made about the data?\n",
    "\n",
    "\n",
    "What are 2-3 additional pieces of information that would be important to collect?\n",
    "- treatment measure to see how it affects the score\n",
    "- more info about patients (age etc)\n",
    "- \n",
    "\"\"\"\n",
    "import numpy as np\n",
    "import pandas as pd\n",
    "import matplotlib.pyplot as plt\n",
    "\n",
    "def main():\n",
    "    df = pd.read_csv('sample.csv')\n",
    "    df.plot.scatter(x='date', y='score')\n",
    "    plt.show()"
   ]
  },
  {
   "cell_type": "code",
   "execution_count": 4,
   "id": "e6f5a8ce",
   "metadata": {},
   "outputs": [
    {
     "data": {
      "image/png": "[encoded data removed]",
      "text/plain": [
       "<Figure size 432x288 with 1 Axes>"
      ]
     },
     "metadata": {
      "needs_background": "light"
     },
     "output_type": "display_data"
    }
   ],
   "source": [
    "main()"
   ]
  },
  {
   "cell_type": "code",
   "execution_count": null,
   "id": "08050f7c",
   "metadata": {},
   "outputs": [],
   "source": []
  }
 ],
 "metadata": {
  "kernelspec": {
   "display_name": "Python 3",
   "language": "python",
   "name": "python3"
  },
  "language_info": {
   "codemirror_mode": {
    "name": "ipython",
    "version": 3
   },
   "file_extension": ".py",
   "mimetype": "text/x-python",
   "name": "python",
   "nbconvert_exporter": "python",
   "pygments_lexer": "ipython3",
   "version": "3.9.4"
  }
 },
 "nbformat": 4,
 "nbformat_minor": 5
}
