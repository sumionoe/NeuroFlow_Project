{
 "cells": [
  {
   "cell_type": "code",
   "execution_count": 23,
   "id": "ca437717",
   "metadata": {},
   "outputs": [],
   "source": [
    "\"\"\"\n",
    "Given the information you have and any light research you’d like to do on the topic, what insights can you draw?\n",
    "\n",
    "- show progress of each patient (user enters patient id)\n",
    "- show the trend of scores across all patients (seasonal changes / time of the day)\n",
    "- show severity level \n",
    "- group data with the length of treatment (after 1 month, 2 months etc)\n",
    "\n",
    "What assumptions have you made about the data?\n",
    "\n",
    "\n",
    "What are 2-3 additional pieces of information that would be important to collect?\n",
    "- treatment measure to see how it affects the score\n",
    "- more info about patients (age etc)\n",
    "- \n",
    "\"\"\"\n",
    "import numpy as np\n",
    "import pandas as pd\n",
    "import matplotlib.pyplot as plt\n",
    "\n",
    "def load_data():\n",
    "    df = pd.read_csv('sample.csv')\n",
    "    return df"
   ]
  },
  {
   "cell_type": "code",
   "execution_count": 24,
   "id": "e6f5a8ce",
   "metadata": {},
   "outputs": [
    {
     "name": "stdout",
     "output_type": "stream",
     "text": [
      "                           date  patient_id  type        patient_date_created  \\\n",
      "0    2019-08-26T13:32:43.019162      8430.0  gad7   2019-06-03T13:23:02.63568   \n",
      "1    2019-11-15T17:55:11.364877      8430.0  gad7   2019-06-03T13:23:02.63568   \n",
      "2    2019-10-07T18:23:29.611351     14338.0  gad7   2019-06-03T13:32:30.66846   \n",
      "3    2019-11-04T20:16:28.610965     14338.0  gad7   2019-06-03T13:32:30.66846   \n",
      "4    2019-12-02T20:56:55.966354     14338.0  gad7   2019-06-03T13:32:30.66846   \n",
      "..                          ...         ...   ...                         ...   \n",
      "197  2019-08-28T15:26:49.335863      8365.0  gad7  2019-06-05T20:50:07.923287   \n",
      "198  2019-10-22T14:41:54.672148      8365.0  gad7  2019-06-05T20:50:07.923287   \n",
      "199   2019-11-21T15:24:16.85903      8365.0  gad7  2019-06-05T20:50:07.923287   \n",
      "200  2019-06-10T11:44:33.661639     13556.0  gad7  2019-06-05T21:05:32.666739   \n",
      "201              2019-07-10T20:         NaN   NaN                         NaN   \n",
      "\n",
      "     score  \n",
      "0      6.0  \n",
      "1      1.0  \n",
      "2     10.0  \n",
      "3      7.0  \n",
      "4      9.0  \n",
      "..     ...  \n",
      "197    0.0  \n",
      "198   18.0  \n",
      "199   15.0  \n",
      "200    4.0  \n",
      "201    NaN  \n",
      "\n",
      "[202 rows x 5 columns]\n"
     ]
    }
   ],
   "source": [
    "df = load_data()\n",
    "individual_data = df[df['patient_id'] == id]\n",
    "print(df)"
   ]
  },
  {
   "cell_type": "code",
   "execution_count": 37,
   "id": "08050f7c",
   "metadata": {},
   "outputs": [],
   "source": [
    "def show_progress(p_id):\n",
    "    \"\"\"\n",
    "    displays score history of individual patient\n",
    "    p_id: patient id (int)\n",
    "    output: plot (x=date, y=score)\n",
    "    \"\"\"\n",
    "    data = df[df['patient_id'] == p_id]\n",
    "    new = data[\"date\"].str.split(\"T\", n = 1, expand = True)\n",
    "    data[:, \"day\"] = new[0]\n",
    "    data[:, \"time\"] = new[1]\n",
    "    data.plot.scatter(x='day', y='score')\n",
    "    plt.xlabel(\"Date\")\n",
    "    plt.ylabel(\"GAD7 Score\")\n",
    "    plt.axhline(y=10, color='r', linestyle='-')\n",
    "    plt.show()"
   ]
  },
  {
   "cell_type": "code",
   "execution_count": 38,
   "id": "85072abf",
   "metadata": {},
   "outputs": [
    {
     "name": "stderr",
     "output_type": "stream",
     "text": [
      "<ipython-input-37-fb0fc5e8e612>:9: SettingWithCopyWarning: \n",
      "A value is trying to be set on a copy of a slice from a DataFrame.\n",
      "Try using .loc[row_indexer,col_indexer] = value instead\n",
      "\n",
      "See the caveats in the documentation: https://pandas.pydata.org/pandas-docs/stable/user_guide/indexing.html#returning-a-view-versus-a-copy\n",
      "  data[\"day\"] = new[0]\n",
      "<ipython-input-37-fb0fc5e8e612>:10: SettingWithCopyWarning: \n",
      "A value is trying to be set on a copy of a slice from a DataFrame.\n",
      "Try using .loc[row_indexer,col_indexer] = value instead\n",
      "\n",
      "See the caveats in the documentation: https://pandas.pydata.org/pandas-docs/stable/user_guide/indexing.html#returning-a-view-versus-a-copy\n",
      "  data[\"time\"] = new[1]\n"
     ]
    },
    {
     "data": {
      "image/png": "[encoded data removed]",
      "text/plain": [
       "<Figure size 432x288 with 1 Axes>"
      ]
     },
     "metadata": {
      "needs_background": "light"
     },
     "output_type": "display_data"
    }
   ],
   "source": [
    "show_progress(8365)"
   ]
  },
  {
   "cell_type": "code",
   "execution_count": null,
   "id": "701d6f48",
   "metadata": {},
   "outputs": [],
   "source": []
  }
 ],
 "metadata": {
  "kernelspec": {
   "display_name": "Python 3",
   "language": "python",
   "name": "python3"
  },
  "language_info": {
   "codemirror_mode": {
    "name": "ipython",
    "version": 3
   },
   "file_extension": ".py",
   "mimetype": "text/x-python",
   "name": "python",
   "nbconvert_exporter": "python",
   "pygments_lexer": "ipython3",
   "version": "3.9.4"
  }
 },
 "nbformat": 4,
 "nbformat_minor": 5
}
